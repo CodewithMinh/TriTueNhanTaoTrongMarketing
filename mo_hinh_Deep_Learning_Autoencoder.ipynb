{
 "cells": [
  {
   "cell_type": "code",
   "execution_count": 1,
   "id": "150cc953",
   "metadata": {},
   "outputs": [],
   "source": [
    "from sklearn.preprocessing import StandardScaler\n",
    "import pandas as pd\n",
    "from sklearn.preprocessing import MinMaxScaler\n",
    "import tensorflow as tf\n",
    "from tensorflow.keras import layers, models\n",
    "from sklearn.metrics.pairwise import cosine_similarity\n",
    "import numpy as np\n"
   ]
  },
  {
   "cell_type": "markdown",
   "id": "b8b26d53",
   "metadata": {},
   "source": [
    "# Đọc dữ liệu"
   ]
  },
  {
   "cell_type": "code",
   "execution_count": 2,
   "id": "afea93f9",
   "metadata": {},
   "outputs": [
    {
     "data": {
      "text/html": [
       "<div>\n",
       "<style scoped>\n",
       "    .dataframe tbody tr th:only-of-type {\n",
       "        vertical-align: middle;\n",
       "    }\n",
       "\n",
       "    .dataframe tbody tr th {\n",
       "        vertical-align: top;\n",
       "    }\n",
       "\n",
       "    .dataframe thead th {\n",
       "        text-align: right;\n",
       "    }\n",
       "</style>\n",
       "<table border=\"1\" class=\"dataframe\">\n",
       "  <thead>\n",
       "    <tr style=\"text-align: right;\">\n",
       "      <th></th>\n",
       "      <th>Unnamed: 0</th>\n",
       "      <th>track_id</th>\n",
       "      <th>artists</th>\n",
       "      <th>album_name</th>\n",
       "      <th>track_name</th>\n",
       "      <th>popularity</th>\n",
       "      <th>duration_ms</th>\n",
       "      <th>explicit</th>\n",
       "      <th>danceability</th>\n",
       "      <th>energy</th>\n",
       "      <th>...</th>\n",
       "      <th>loudness</th>\n",
       "      <th>mode</th>\n",
       "      <th>speechiness</th>\n",
       "      <th>acousticness</th>\n",
       "      <th>instrumentalness</th>\n",
       "      <th>liveness</th>\n",
       "      <th>valence</th>\n",
       "      <th>tempo</th>\n",
       "      <th>time_signature</th>\n",
       "      <th>track_genre</th>\n",
       "    </tr>\n",
       "  </thead>\n",
       "  <tbody>\n",
       "    <tr>\n",
       "      <th>0</th>\n",
       "      <td>0</td>\n",
       "      <td>5SuOikwiRyPMVoIQDJUgSV</td>\n",
       "      <td>Gen Hoshino</td>\n",
       "      <td>Comedy</td>\n",
       "      <td>Comedy</td>\n",
       "      <td>73</td>\n",
       "      <td>230666</td>\n",
       "      <td>0</td>\n",
       "      <td>0.676</td>\n",
       "      <td>0.4610</td>\n",
       "      <td>...</td>\n",
       "      <td>-6.746</td>\n",
       "      <td>0</td>\n",
       "      <td>0.1430</td>\n",
       "      <td>0.0322</td>\n",
       "      <td>0.000001</td>\n",
       "      <td>0.3580</td>\n",
       "      <td>0.715</td>\n",
       "      <td>87.917</td>\n",
       "      <td>4</td>\n",
       "      <td>acoustic</td>\n",
       "    </tr>\n",
       "    <tr>\n",
       "      <th>1</th>\n",
       "      <td>1</td>\n",
       "      <td>4qPNDBW1i3p13qLCt0Ki3A</td>\n",
       "      <td>Ben Woodward</td>\n",
       "      <td>Ghost (Acoustic)</td>\n",
       "      <td>Ghost - Acoustic</td>\n",
       "      <td>55</td>\n",
       "      <td>149610</td>\n",
       "      <td>0</td>\n",
       "      <td>0.420</td>\n",
       "      <td>0.1660</td>\n",
       "      <td>...</td>\n",
       "      <td>-17.235</td>\n",
       "      <td>1</td>\n",
       "      <td>0.0763</td>\n",
       "      <td>0.9240</td>\n",
       "      <td>0.000006</td>\n",
       "      <td>0.1010</td>\n",
       "      <td>0.267</td>\n",
       "      <td>77.489</td>\n",
       "      <td>4</td>\n",
       "      <td>acoustic</td>\n",
       "    </tr>\n",
       "    <tr>\n",
       "      <th>2</th>\n",
       "      <td>2</td>\n",
       "      <td>1iJBSr7s7jYXzM8EGcbK5b</td>\n",
       "      <td>Ingrid Michaelson;ZAYN</td>\n",
       "      <td>To Begin Again</td>\n",
       "      <td>To Begin Again</td>\n",
       "      <td>57</td>\n",
       "      <td>210826</td>\n",
       "      <td>0</td>\n",
       "      <td>0.438</td>\n",
       "      <td>0.3590</td>\n",
       "      <td>...</td>\n",
       "      <td>-9.734</td>\n",
       "      <td>1</td>\n",
       "      <td>0.0557</td>\n",
       "      <td>0.2100</td>\n",
       "      <td>0.000000</td>\n",
       "      <td>0.1170</td>\n",
       "      <td>0.120</td>\n",
       "      <td>76.332</td>\n",
       "      <td>4</td>\n",
       "      <td>acoustic</td>\n",
       "    </tr>\n",
       "    <tr>\n",
       "      <th>3</th>\n",
       "      <td>3</td>\n",
       "      <td>6lfxq3CG4xtTiEg7opyCyx</td>\n",
       "      <td>Kina Grannis</td>\n",
       "      <td>Crazy Rich Asians (Original Motion Picture Sou...</td>\n",
       "      <td>Can't Help Falling In Love</td>\n",
       "      <td>71</td>\n",
       "      <td>201933</td>\n",
       "      <td>0</td>\n",
       "      <td>0.266</td>\n",
       "      <td>0.0596</td>\n",
       "      <td>...</td>\n",
       "      <td>-18.515</td>\n",
       "      <td>1</td>\n",
       "      <td>0.0363</td>\n",
       "      <td>0.9050</td>\n",
       "      <td>0.000071</td>\n",
       "      <td>0.1320</td>\n",
       "      <td>0.143</td>\n",
       "      <td>181.740</td>\n",
       "      <td>3</td>\n",
       "      <td>acoustic</td>\n",
       "    </tr>\n",
       "    <tr>\n",
       "      <th>4</th>\n",
       "      <td>4</td>\n",
       "      <td>5vjLSffimiIP26QG5WcN2K</td>\n",
       "      <td>Chord Overstreet</td>\n",
       "      <td>Hold On</td>\n",
       "      <td>Hold On</td>\n",
       "      <td>82</td>\n",
       "      <td>198853</td>\n",
       "      <td>0</td>\n",
       "      <td>0.618</td>\n",
       "      <td>0.4430</td>\n",
       "      <td>...</td>\n",
       "      <td>-9.681</td>\n",
       "      <td>1</td>\n",
       "      <td>0.0526</td>\n",
       "      <td>0.4690</td>\n",
       "      <td>0.000000</td>\n",
       "      <td>0.0829</td>\n",
       "      <td>0.167</td>\n",
       "      <td>119.949</td>\n",
       "      <td>4</td>\n",
       "      <td>acoustic</td>\n",
       "    </tr>\n",
       "  </tbody>\n",
       "</table>\n",
       "<p>5 rows × 21 columns</p>\n",
       "</div>"
      ],
      "text/plain": [
       "   Unnamed: 0                track_id                 artists  \\\n",
       "0           0  5SuOikwiRyPMVoIQDJUgSV             Gen Hoshino   \n",
       "1           1  4qPNDBW1i3p13qLCt0Ki3A            Ben Woodward   \n",
       "2           2  1iJBSr7s7jYXzM8EGcbK5b  Ingrid Michaelson;ZAYN   \n",
       "3           3  6lfxq3CG4xtTiEg7opyCyx            Kina Grannis   \n",
       "4           4  5vjLSffimiIP26QG5WcN2K        Chord Overstreet   \n",
       "\n",
       "                                          album_name  \\\n",
       "0                                             Comedy   \n",
       "1                                   Ghost (Acoustic)   \n",
       "2                                     To Begin Again   \n",
       "3  Crazy Rich Asians (Original Motion Picture Sou...   \n",
       "4                                            Hold On   \n",
       "\n",
       "                   track_name  popularity  duration_ms  explicit  \\\n",
       "0                      Comedy          73       230666         0   \n",
       "1            Ghost - Acoustic          55       149610         0   \n",
       "2              To Begin Again          57       210826         0   \n",
       "3  Can't Help Falling In Love          71       201933         0   \n",
       "4                     Hold On          82       198853         0   \n",
       "\n",
       "   danceability  energy  ...  loudness  mode  speechiness  acousticness  \\\n",
       "0         0.676  0.4610  ...    -6.746     0       0.1430        0.0322   \n",
       "1         0.420  0.1660  ...   -17.235     1       0.0763        0.9240   \n",
       "2         0.438  0.3590  ...    -9.734     1       0.0557        0.2100   \n",
       "3         0.266  0.0596  ...   -18.515     1       0.0363        0.9050   \n",
       "4         0.618  0.4430  ...    -9.681     1       0.0526        0.4690   \n",
       "\n",
       "   instrumentalness  liveness  valence    tempo  time_signature  track_genre  \n",
       "0          0.000001    0.3580    0.715   87.917               4     acoustic  \n",
       "1          0.000006    0.1010    0.267   77.489               4     acoustic  \n",
       "2          0.000000    0.1170    0.120   76.332               4     acoustic  \n",
       "3          0.000071    0.1320    0.143  181.740               3     acoustic  \n",
       "4          0.000000    0.0829    0.167  119.949               4     acoustic  \n",
       "\n",
       "[5 rows x 21 columns]"
      ]
     },
     "execution_count": 2,
     "metadata": {},
     "output_type": "execute_result"
    }
   ],
   "source": [
    "df = pd.read_csv('dataset_cleaned.csv')\n",
    "\n",
    "df.head()\n"
   ]
  },
  {
   "cell_type": "markdown",
   "id": "05ee9b82",
   "metadata": {},
   "source": [
    "# họn các đặc trưng âm thanh\n",
    "features = ['danceability', 'energy', 'loudness', 'speechiness', \n",
    "             'acousticness', 'instrumentalness', 'liveness', \n",
    "             'valence', 'tempo']\n",
    "\n",
    "- Giải thích:\n",
    "\n",
    "Danh sách này chứa 9 đặc trưng liên quan đến âm thanh của bài hát.\n",
    "\n",
    "Các giá trị này thể hiện tính “tương đồng” về cảm giác nghe — ví dụ:\n",
    "\n",
    "danceability: độ dễ nhảy\n",
    "\n",
    "energy: năng lượng, độ mạnh\n",
    "\n",
    "loudness: độ to\n",
    "\n",
    "valence: cảm xúc tích cực\n",
    "\n",
    "tempo: nhịp độ (BPM)\n",
    "\n",
    "- Mục đích:\n",
    "\n",
    "Lấy các đặc trưng liên quan trực tiếp đến âm thanh để mô hình học ra không gian “ẩn” (latent space) biểu diễn các bài hát tương tự nhau."
   ]
  },
  {
   "cell_type": "code",
   "execution_count": 3,
   "id": "7c784784",
   "metadata": {},
   "outputs": [],
   "source": [
    "features = ['danceability','energy','loudness','speechiness','acousticness',\n",
    "            'instrumentalness','liveness','valence','tempo']\n",
    "\n",
    "scaler = MinMaxScaler()\n",
    "X_scaled = scaler.fit_transform(df[features])"
   ]
  },
  {
   "cell_type": "markdown",
   "id": "04067909",
   "metadata": {},
   "source": [
    "# Giới thiệu mô hình Autoencoder\n",
    "\n",
    "## 1️ Khái niệm\n",
    "**Autoencoder** là một mô hình **mạng nơ-ron nhân tạo (Artificial Neural Network)** được thiết kế nhằm **học biểu diễn nén (compressed representation)** của dữ liệu đầu vào.  \n",
    "Nói cách khác, Autoencoder cố gắng **mã hóa (encode)** dữ liệu thành một dạng biểu diễn có số chiều nhỏ hơn, sau đó **giải mã (decode)** để tái tạo lại dữ liệu ban đầu.\n",
    "\n",
    ">  Mục tiêu của mô hình là tái tạo dữ liệu đầu vào sao cho càng giống dữ liệu gốc càng tốt, thông qua việc học các đặc trưng tiềm ẩn quan trọng nhất.\n",
    "\n",
    "---\n",
    "\n",
    "## 2️ Cấu trúc của Autoencoder\n",
    "\n",
    "Autoencoder gồm **3 phần chính**:\n",
    "\n",
    "| Thành phần | Vai trò | Giải thích |\n",
    "|-------------|----------|------------|\n",
    "|  **Encoder (Bộ mã hóa)** | Nén dữ liệu | Biến đổi dữ liệu đầu vào có chiều cao thành một vector có chiều thấp hơn — gọi là **biểu diễn ẩn (latent representation)**. |\n",
    "|  **Latent Space (Không gian ẩn)** | Biểu diễn đặc trưng | Lưu trữ các đặc trưng quan trọng nhất mà mô hình học được từ dữ liệu gốc. |\n",
    "|  **Decoder (Bộ giải mã)** | Tái tạo dữ liệu | Dùng thông tin trong không gian ẩn để tái tạo lại dữ liệu đầu vào. |\n",
    "\n",
    "\n",
    "---\n",
    "\n",
    "## 3️ Cách hoạt động\n",
    "1. **Encoder** học cách biểu diễn dữ liệu đầu vào trong không gian ẩn có kích thước nhỏ hơn.  \n",
    "2. **Decoder** học cách khôi phục lại dữ liệu ban đầu từ không gian ẩn.  \n",
    "3. Quá trình huấn luyện được tối ưu bằng cách **giảm lỗi tái tạo** giữa đầu vào và đầu ra.  \n",
    "\n",
    "---\n",
    "\n",
    "## 4️ Ứng dụng trong hệ thống gợi ý\n",
    "Trong bài toán **gợi ý bài hát**, Autoencoder giúp:\n",
    "- **Tự động trích xuất đặc trưng âm nhạc tiềm ẩn** (latent features) từ các đặc trưng như `energy`, `danceability`, `tempo`, `valence`,...  \n",
    "- Các đặc trưng này phản ánh **phong cách hoặc “chất” của bài hát**, giúp mô hình hiểu mối quan hệ giữa các bài hát tương tự.  \n",
    "- Sau khi huấn luyện, ta dùng **Encoder** để lấy vector đặc trưng của từng bài hát và tính **độ tương đồng cosine** giữa chúng để **gợi ý bài hát tương tự**.\n",
    "\n",
    "---\n",
    "\n",
    "## 5️ Ưu điểm của Autoencoder\n",
    "Không cần gán nhãn dữ liệu (Unsupervised Learning)  \n",
    "**Giảm nhiễu và trích chọn đặc trưng tự động**  \n",
    "Học được **quan hệ phi tuyến phức tạp** mà PCA hay K-Means không thể nắm bắt  \n",
    "Cải thiện **độ chính xác** trong gợi ý bài hát, phim, hoặc sản phẩm tương tự  \n",
    "\n",
    "---\n",
    "\n"
   ]
  },
  {
   "cell_type": "code",
   "execution_count": null,
   "id": "ee168d71",
   "metadata": {},
   "outputs": [
    {
     "data": {
      "text/html": [
       "<pre style=\"white-space:pre;overflow-x:auto;line-height:normal;font-family:Menlo,'DejaVu Sans Mono',consolas,'Courier New',monospace\"><span style=\"font-weight: bold\">Model: \"sequential\"</span>\n",
       "</pre>\n"
      ],
      "text/plain": [
       "\u001b[1mModel: \"sequential\"\u001b[0m\n"
      ]
     },
     "metadata": {},
     "output_type": "display_data"
    },
    {
     "data": {
      "text/html": [
       "<pre style=\"white-space:pre;overflow-x:auto;line-height:normal;font-family:Menlo,'DejaVu Sans Mono',consolas,'Courier New',monospace\">┏━━━━━━━━━━━━━━━━━━━━━━━━━━━━━━━━━┳━━━━━━━━━━━━━━━━━━━━━━━━┳━━━━━━━━━━━━━━━┓\n",
       "┃<span style=\"font-weight: bold\"> Layer (type)                    </span>┃<span style=\"font-weight: bold\"> Output Shape           </span>┃<span style=\"font-weight: bold\">       Param # </span>┃\n",
       "┡━━━━━━━━━━━━━━━━━━━━━━━━━━━━━━━━━╇━━━━━━━━━━━━━━━━━━━━━━━━╇━━━━━━━━━━━━━━━┩\n",
       "│ dense (<span style=\"color: #0087ff; text-decoration-color: #0087ff\">Dense</span>)                   │ (<span style=\"color: #00d7ff; text-decoration-color: #00d7ff\">None</span>, <span style=\"color: #00af00; text-decoration-color: #00af00\">64</span>)             │           <span style=\"color: #00af00; text-decoration-color: #00af00\">640</span> │\n",
       "├─────────────────────────────────┼────────────────────────┼───────────────┤\n",
       "│ dense_1 (<span style=\"color: #0087ff; text-decoration-color: #0087ff\">Dense</span>)                 │ (<span style=\"color: #00d7ff; text-decoration-color: #00d7ff\">None</span>, <span style=\"color: #00af00; text-decoration-color: #00af00\">32</span>)             │         <span style=\"color: #00af00; text-decoration-color: #00af00\">2,080</span> │\n",
       "├─────────────────────────────────┼────────────────────────┼───────────────┤\n",
       "│ dense_2 (<span style=\"color: #0087ff; text-decoration-color: #0087ff\">Dense</span>)                 │ (<span style=\"color: #00d7ff; text-decoration-color: #00d7ff\">None</span>, <span style=\"color: #00af00; text-decoration-color: #00af00\">64</span>)             │         <span style=\"color: #00af00; text-decoration-color: #00af00\">2,112</span> │\n",
       "├─────────────────────────────────┼────────────────────────┼───────────────┤\n",
       "│ dense_3 (<span style=\"color: #0087ff; text-decoration-color: #0087ff\">Dense</span>)                 │ (<span style=\"color: #00d7ff; text-decoration-color: #00d7ff\">None</span>, <span style=\"color: #00af00; text-decoration-color: #00af00\">9</span>)              │           <span style=\"color: #00af00; text-decoration-color: #00af00\">585</span> │\n",
       "└─────────────────────────────────┴────────────────────────┴───────────────┘\n",
       "</pre>\n"
      ],
      "text/plain": [
       "┏━━━━━━━━━━━━━━━━━━━━━━━━━━━━━━━━━┳━━━━━━━━━━━━━━━━━━━━━━━━┳━━━━━━━━━━━━━━━┓\n",
       "┃\u001b[1m \u001b[0m\u001b[1mLayer (type)                   \u001b[0m\u001b[1m \u001b[0m┃\u001b[1m \u001b[0m\u001b[1mOutput Shape          \u001b[0m\u001b[1m \u001b[0m┃\u001b[1m \u001b[0m\u001b[1m      Param #\u001b[0m\u001b[1m \u001b[0m┃\n",
       "┡━━━━━━━━━━━━━━━━━━━━━━━━━━━━━━━━━╇━━━━━━━━━━━━━━━━━━━━━━━━╇━━━━━━━━━━━━━━━┩\n",
       "│ dense (\u001b[38;5;33mDense\u001b[0m)                   │ (\u001b[38;5;45mNone\u001b[0m, \u001b[38;5;34m64\u001b[0m)             │           \u001b[38;5;34m640\u001b[0m │\n",
       "├─────────────────────────────────┼────────────────────────┼───────────────┤\n",
       "│ dense_1 (\u001b[38;5;33mDense\u001b[0m)                 │ (\u001b[38;5;45mNone\u001b[0m, \u001b[38;5;34m32\u001b[0m)             │         \u001b[38;5;34m2,080\u001b[0m │\n",
       "├─────────────────────────────────┼────────────────────────┼───────────────┤\n",
       "│ dense_2 (\u001b[38;5;33mDense\u001b[0m)                 │ (\u001b[38;5;45mNone\u001b[0m, \u001b[38;5;34m64\u001b[0m)             │         \u001b[38;5;34m2,112\u001b[0m │\n",
       "├─────────────────────────────────┼────────────────────────┼───────────────┤\n",
       "│ dense_3 (\u001b[38;5;33mDense\u001b[0m)                 │ (\u001b[38;5;45mNone\u001b[0m, \u001b[38;5;34m9\u001b[0m)              │           \u001b[38;5;34m585\u001b[0m │\n",
       "└─────────────────────────────────┴────────────────────────┴───────────────┘\n"
      ]
     },
     "metadata": {},
     "output_type": "display_data"
    },
    {
     "data": {
      "text/html": [
       "<pre style=\"white-space:pre;overflow-x:auto;line-height:normal;font-family:Menlo,'DejaVu Sans Mono',consolas,'Courier New',monospace\"><span style=\"font-weight: bold\"> Total params: </span><span style=\"color: #00af00; text-decoration-color: #00af00\">5,417</span> (21.16 KB)\n",
       "</pre>\n"
      ],
      "text/plain": [
       "\u001b[1m Total params: \u001b[0m\u001b[38;5;34m5,417\u001b[0m (21.16 KB)\n"
      ]
     },
     "metadata": {},
     "output_type": "display_data"
    },
    {
     "data": {
      "text/html": [
       "<pre style=\"white-space:pre;overflow-x:auto;line-height:normal;font-family:Menlo,'DejaVu Sans Mono',consolas,'Courier New',monospace\"><span style=\"font-weight: bold\"> Trainable params: </span><span style=\"color: #00af00; text-decoration-color: #00af00\">5,417</span> (21.16 KB)\n",
       "</pre>\n"
      ],
      "text/plain": [
       "\u001b[1m Trainable params: \u001b[0m\u001b[38;5;34m5,417\u001b[0m (21.16 KB)\n"
      ]
     },
     "metadata": {},
     "output_type": "display_data"
    },
    {
     "data": {
      "text/html": [
       "<pre style=\"white-space:pre;overflow-x:auto;line-height:normal;font-family:Menlo,'DejaVu Sans Mono',consolas,'Courier New',monospace\"><span style=\"font-weight: bold\"> Non-trainable params: </span><span style=\"color: #00af00; text-decoration-color: #00af00\">0</span> (0.00 B)\n",
       "</pre>\n"
      ],
      "text/plain": [
       "\u001b[1m Non-trainable params: \u001b[0m\u001b[38;5;34m0\u001b[0m (0.00 B)\n"
      ]
     },
     "metadata": {},
     "output_type": "display_data"
    }
   ],
   "source": [
    "input_dim = X_scaled.shape[1]\n",
    "# Xây dựng mô hình Autoencoder\n",
    "autoencoder = models.Sequential([\n",
    "    layers.Input(shape=(input_dim,)),\n",
    "    layers.Dense(64, activation='relu'),\n",
    "    layers.Dense(32, activation='relu'),  # lớp ẩn nén đặc trưng\n",
    "    layers.Dense(64, activation='relu'),\n",
    "    layers.Dense(input_dim, activation='sigmoid')\n",
    "])\n",
    "# Biên dịch mô hình\n",
    "autoencoder.compile(optimizer='adam', loss='mse')\n",
    "autoencoder.summary()\n"
   ]
  },
  {
   "cell_type": "code",
   "execution_count": null,
   "id": "dcdd47ef",
   "metadata": {},
   "outputs": [
    {
     "name": "stdout",
     "output_type": "stream",
     "text": [
      "Epoch 1/50\n",
      "\u001b[1m1604/1604\u001b[0m \u001b[32m━━━━━━━━━━━━━━━━━━━━\u001b[0m\u001b[37m\u001b[0m \u001b[1m7s\u001b[0m 3ms/step - loss: 0.0041 - val_loss: 6.4525e-04\n",
      "Epoch 2/50\n",
      "\u001b[1m1604/1604\u001b[0m \u001b[32m━━━━━━━━━━━━━━━━━━━━\u001b[0m\u001b[37m\u001b[0m \u001b[1m5s\u001b[0m 3ms/step - loss: 4.0211e-04 - val_loss: 2.8403e-04\n",
      "Epoch 3/50\n",
      "\u001b[1m1604/1604\u001b[0m \u001b[32m━━━━━━━━━━━━━━━━━━━━\u001b[0m\u001b[37m\u001b[0m \u001b[1m5s\u001b[0m 3ms/step - loss: 2.2323e-04 - val_loss: 2.9668e-04\n",
      "Epoch 4/50\n",
      "\u001b[1m1604/1604\u001b[0m \u001b[32m━━━━━━━━━━━━━━━━━━━━\u001b[0m\u001b[37m\u001b[0m \u001b[1m5s\u001b[0m 3ms/step - loss: 1.7323e-04 - val_loss: 1.7910e-04\n",
      "Epoch 5/50\n",
      "\u001b[1m1604/1604\u001b[0m \u001b[32m━━━━━━━━━━━━━━━━━━━━\u001b[0m\u001b[37m\u001b[0m \u001b[1m5s\u001b[0m 3ms/step - loss: 1.4186e-04 - val_loss: 1.1645e-04\n",
      "Epoch 6/50\n",
      "\u001b[1m1604/1604\u001b[0m \u001b[32m━━━━━━━━━━━━━━━━━━━━\u001b[0m\u001b[37m\u001b[0m \u001b[1m5s\u001b[0m 3ms/step - loss: 1.2700e-04 - val_loss: 1.1515e-04\n",
      "Epoch 7/50\n",
      "\u001b[1m1604/1604\u001b[0m \u001b[32m━━━━━━━━━━━━━━━━━━━━\u001b[0m\u001b[37m\u001b[0m \u001b[1m5s\u001b[0m 3ms/step - loss: 1.1718e-04 - val_loss: 8.9457e-05\n",
      "Epoch 8/50\n",
      "\u001b[1m1604/1604\u001b[0m \u001b[32m━━━━━━━━━━━━━━━━━━━━\u001b[0m\u001b[37m\u001b[0m \u001b[1m5s\u001b[0m 3ms/step - loss: 1.0278e-04 - val_loss: 8.2555e-05\n",
      "Epoch 9/50\n",
      "\u001b[1m1604/1604\u001b[0m \u001b[32m━━━━━━━━━━━━━━━━━━━━\u001b[0m\u001b[37m\u001b[0m \u001b[1m5s\u001b[0m 3ms/step - loss: 7.9304e-05 - val_loss: 8.5756e-05\n",
      "Epoch 10/50\n",
      "\u001b[1m1604/1604\u001b[0m \u001b[32m━━━━━━━━━━━━━━━━━━━━\u001b[0m\u001b[37m\u001b[0m \u001b[1m5s\u001b[0m 3ms/step - loss: 7.2813e-05 - val_loss: 9.0452e-05\n",
      "Epoch 11/50\n",
      "\u001b[1m1604/1604\u001b[0m \u001b[32m━━━━━━━━━━━━━━━━━━━━\u001b[0m\u001b[37m\u001b[0m \u001b[1m5s\u001b[0m 3ms/step - loss: 7.0338e-05 - val_loss: 6.5496e-05\n",
      "Epoch 12/50\n",
      "\u001b[1m1604/1604\u001b[0m \u001b[32m━━━━━━━━━━━━━━━━━━━━\u001b[0m\u001b[37m\u001b[0m \u001b[1m5s\u001b[0m 3ms/step - loss: 6.9592e-05 - val_loss: 7.2020e-05\n",
      "Epoch 13/50\n",
      "\u001b[1m1604/1604\u001b[0m \u001b[32m━━━━━━━━━━━━━━━━━━━━\u001b[0m\u001b[37m\u001b[0m \u001b[1m5s\u001b[0m 3ms/step - loss: 6.8700e-05 - val_loss: 6.6644e-05\n",
      "Epoch 14/50\n",
      "\u001b[1m1604/1604\u001b[0m \u001b[32m━━━━━━━━━━━━━━━━━━━━\u001b[0m\u001b[37m\u001b[0m \u001b[1m5s\u001b[0m 3ms/step - loss: 6.7939e-05 - val_loss: 7.6901e-05\n",
      "Epoch 15/50\n",
      "\u001b[1m1604/1604\u001b[0m \u001b[32m━━━━━━━━━━━━━━━━━━━━\u001b[0m\u001b[37m\u001b[0m \u001b[1m5s\u001b[0m 3ms/step - loss: 6.7715e-05 - val_loss: 7.6705e-05\n",
      "Epoch 16/50\n",
      "\u001b[1m1604/1604\u001b[0m \u001b[32m━━━━━━━━━━━━━━━━━━━━\u001b[0m\u001b[37m\u001b[0m \u001b[1m5s\u001b[0m 3ms/step - loss: 6.7483e-05 - val_loss: 6.1299e-05\n",
      "Epoch 17/50\n",
      "\u001b[1m1604/1604\u001b[0m \u001b[32m━━━━━━━━━━━━━━━━━━━━\u001b[0m\u001b[37m\u001b[0m \u001b[1m5s\u001b[0m 3ms/step - loss: 6.6717e-05 - val_loss: 5.6260e-05\n",
      "Epoch 18/50\n",
      "\u001b[1m1604/1604\u001b[0m \u001b[32m━━━━━━━━━━━━━━━━━━━━\u001b[0m\u001b[37m\u001b[0m \u001b[1m5s\u001b[0m 3ms/step - loss: 6.7494e-05 - val_loss: 1.0992e-04\n",
      "Epoch 19/50\n",
      "\u001b[1m1604/1604\u001b[0m \u001b[32m━━━━━━━━━━━━━━━━━━━━\u001b[0m\u001b[37m\u001b[0m \u001b[1m5s\u001b[0m 3ms/step - loss: 6.6886e-05 - val_loss: 8.8894e-05\n",
      "Epoch 20/50\n",
      "\u001b[1m1604/1604\u001b[0m \u001b[32m━━━━━━━━━━━━━━━━━━━━\u001b[0m\u001b[37m\u001b[0m \u001b[1m5s\u001b[0m 3ms/step - loss: 6.7080e-05 - val_loss: 6.3729e-05\n",
      "Epoch 21/50\n",
      "\u001b[1m1604/1604\u001b[0m \u001b[32m━━━━━━━━━━━━━━━━━━━━\u001b[0m\u001b[37m\u001b[0m \u001b[1m5s\u001b[0m 3ms/step - loss: 6.6163e-05 - val_loss: 5.3981e-05\n",
      "Epoch 22/50\n",
      "\u001b[1m1604/1604\u001b[0m \u001b[32m━━━━━━━━━━━━━━━━━━━━\u001b[0m\u001b[37m\u001b[0m \u001b[1m5s\u001b[0m 3ms/step - loss: 6.6237e-05 - val_loss: 9.1244e-05\n",
      "Epoch 23/50\n",
      "\u001b[1m1604/1604\u001b[0m \u001b[32m━━━━━━━━━━━━━━━━━━━━\u001b[0m\u001b[37m\u001b[0m \u001b[1m5s\u001b[0m 3ms/step - loss: 6.6322e-05 - val_loss: 7.0241e-05\n",
      "Epoch 24/50\n",
      "\u001b[1m1604/1604\u001b[0m \u001b[32m━━━━━━━━━━━━━━━━━━━━\u001b[0m\u001b[37m\u001b[0m \u001b[1m5s\u001b[0m 3ms/step - loss: 6.5219e-05 - val_loss: 6.0563e-05\n",
      "Epoch 25/50\n",
      "\u001b[1m1604/1604\u001b[0m \u001b[32m━━━━━━━━━━━━━━━━━━━━\u001b[0m\u001b[37m\u001b[0m \u001b[1m5s\u001b[0m 3ms/step - loss: 6.5288e-05 - val_loss: 5.9911e-05\n",
      "Epoch 26/50\n",
      "\u001b[1m1604/1604\u001b[0m \u001b[32m━━━━━━━━━━━━━━━━━━━━\u001b[0m\u001b[37m\u001b[0m \u001b[1m5s\u001b[0m 3ms/step - loss: 6.5037e-05 - val_loss: 6.2359e-05\n",
      "Epoch 27/50\n",
      "\u001b[1m1604/1604\u001b[0m \u001b[32m━━━━━━━━━━━━━━━━━━━━\u001b[0m\u001b[37m\u001b[0m \u001b[1m5s\u001b[0m 3ms/step - loss: 6.5138e-05 - val_loss: 7.1846e-05\n",
      "Epoch 28/50\n",
      "\u001b[1m1604/1604\u001b[0m \u001b[32m━━━━━━━━━━━━━━━━━━━━\u001b[0m\u001b[37m\u001b[0m \u001b[1m5s\u001b[0m 3ms/step - loss: 6.4704e-05 - val_loss: 8.1934e-05\n",
      "Epoch 29/50\n",
      "\u001b[1m1604/1604\u001b[0m \u001b[32m━━━━━━━━━━━━━━━━━━━━\u001b[0m\u001b[37m\u001b[0m \u001b[1m5s\u001b[0m 3ms/step - loss: 6.4735e-05 - val_loss: 5.5254e-05\n",
      "Epoch 30/50\n",
      "\u001b[1m1604/1604\u001b[0m \u001b[32m━━━━━━━━━━━━━━━━━━━━\u001b[0m\u001b[37m\u001b[0m \u001b[1m5s\u001b[0m 3ms/step - loss: 6.4376e-05 - val_loss: 7.3273e-05\n",
      "Epoch 31/50\n",
      "\u001b[1m1604/1604\u001b[0m \u001b[32m━━━━━━━━━━━━━━━━━━━━\u001b[0m\u001b[37m\u001b[0m \u001b[1m5s\u001b[0m 3ms/step - loss: 6.3507e-05 - val_loss: 5.5283e-05\n",
      "Epoch 32/50\n",
      "\u001b[1m1604/1604\u001b[0m \u001b[32m━━━━━━━━━━━━━━━━━━━━\u001b[0m\u001b[37m\u001b[0m \u001b[1m5s\u001b[0m 3ms/step - loss: 6.3367e-05 - val_loss: 6.3875e-05\n",
      "Epoch 33/50\n",
      "\u001b[1m1604/1604\u001b[0m \u001b[32m━━━━━━━━━━━━━━━━━━━━\u001b[0m\u001b[37m\u001b[0m \u001b[1m5s\u001b[0m 3ms/step - loss: 6.3355e-05 - val_loss: 5.8852e-05\n",
      "Epoch 34/50\n",
      "\u001b[1m1604/1604\u001b[0m \u001b[32m━━━━━━━━━━━━━━━━━━━━\u001b[0m\u001b[37m\u001b[0m \u001b[1m5s\u001b[0m 3ms/step - loss: 6.3108e-05 - val_loss: 6.0512e-05\n",
      "Epoch 35/50\n",
      "\u001b[1m1604/1604\u001b[0m \u001b[32m━━━━━━━━━━━━━━━━━━━━\u001b[0m\u001b[37m\u001b[0m \u001b[1m5s\u001b[0m 3ms/step - loss: 6.2333e-05 - val_loss: 5.4082e-05\n",
      "Epoch 36/50\n",
      "\u001b[1m1604/1604\u001b[0m \u001b[32m━━━━━━━━━━━━━━━━━━━━\u001b[0m\u001b[37m\u001b[0m \u001b[1m5s\u001b[0m 3ms/step - loss: 6.2710e-05 - val_loss: 6.9498e-05\n",
      "Epoch 37/50\n",
      "\u001b[1m1604/1604\u001b[0m \u001b[32m━━━━━━━━━━━━━━━━━━━━\u001b[0m\u001b[37m\u001b[0m \u001b[1m5s\u001b[0m 3ms/step - loss: 6.2377e-05 - val_loss: 5.9712e-05\n",
      "Epoch 38/50\n",
      "\u001b[1m1604/1604\u001b[0m \u001b[32m━━━━━━━━━━━━━━━━━━━━\u001b[0m\u001b[37m\u001b[0m \u001b[1m5s\u001b[0m 3ms/step - loss: 6.1931e-05 - val_loss: 6.3590e-05\n",
      "Epoch 39/50\n",
      "\u001b[1m1604/1604\u001b[0m \u001b[32m━━━━━━━━━━━━━━━━━━━━\u001b[0m\u001b[37m\u001b[0m \u001b[1m5s\u001b[0m 3ms/step - loss: 6.1532e-05 - val_loss: 5.3995e-05\n",
      "Epoch 40/50\n",
      "\u001b[1m1604/1604\u001b[0m \u001b[32m━━━━━━━━━━━━━━━━━━━━\u001b[0m\u001b[37m\u001b[0m \u001b[1m5s\u001b[0m 3ms/step - loss: 6.0864e-05 - val_loss: 5.6668e-05\n",
      "Epoch 41/50\n",
      "\u001b[1m1604/1604\u001b[0m \u001b[32m━━━━━━━━━━━━━━━━━━━━\u001b[0m\u001b[37m\u001b[0m \u001b[1m5s\u001b[0m 3ms/step - loss: 6.0012e-05 - val_loss: 6.1501e-05\n",
      "Epoch 42/50\n",
      "\u001b[1m1604/1604\u001b[0m \u001b[32m━━━━━━━━━━━━━━━━━━━━\u001b[0m\u001b[37m\u001b[0m \u001b[1m5s\u001b[0m 3ms/step - loss: 5.9342e-05 - val_loss: 6.9088e-05\n",
      "Epoch 43/50\n",
      "\u001b[1m1604/1604\u001b[0m \u001b[32m━━━━━━━━━━━━━━━━━━━━\u001b[0m\u001b[37m\u001b[0m \u001b[1m4s\u001b[0m 3ms/step - loss: 5.7918e-05 - val_loss: 4.8955e-05\n",
      "Epoch 44/50\n",
      "\u001b[1m1604/1604\u001b[0m \u001b[32m━━━━━━━━━━━━━━━━━━━━\u001b[0m\u001b[37m\u001b[0m \u001b[1m4s\u001b[0m 3ms/step - loss: 5.6540e-05 - val_loss: 7.0570e-05\n",
      "Epoch 45/50\n",
      "\u001b[1m1604/1604\u001b[0m \u001b[32m━━━━━━━━━━━━━━━━━━━━\u001b[0m\u001b[37m\u001b[0m \u001b[1m5s\u001b[0m 3ms/step - loss: 5.5733e-05 - val_loss: 6.9309e-05\n",
      "Epoch 46/50\n",
      "\u001b[1m1604/1604\u001b[0m \u001b[32m━━━━━━━━━━━━━━━━━━━━\u001b[0m\u001b[37m\u001b[0m \u001b[1m5s\u001b[0m 3ms/step - loss: 5.4766e-05 - val_loss: 7.3303e-05\n",
      "Epoch 47/50\n",
      "\u001b[1m1604/1604\u001b[0m \u001b[32m━━━━━━━━━━━━━━━━━━━━\u001b[0m\u001b[37m\u001b[0m \u001b[1m4s\u001b[0m 3ms/step - loss: 5.4536e-05 - val_loss: 4.4993e-05\n",
      "Epoch 48/50\n",
      "\u001b[1m1604/1604\u001b[0m \u001b[32m━━━━━━━━━━━━━━━━━━━━\u001b[0m\u001b[37m\u001b[0m \u001b[1m4s\u001b[0m 3ms/step - loss: 5.4179e-05 - val_loss: 6.7407e-05\n",
      "Epoch 49/50\n",
      "\u001b[1m1604/1604\u001b[0m \u001b[32m━━━━━━━━━━━━━━━━━━━━\u001b[0m\u001b[37m\u001b[0m \u001b[1m5s\u001b[0m 3ms/step - loss: 5.3512e-05 - val_loss: 6.3611e-05\n",
      "Epoch 50/50\n",
      "\u001b[1m1604/1604\u001b[0m \u001b[32m━━━━━━━━━━━━━━━━━━━━\u001b[0m\u001b[37m\u001b[0m \u001b[1m4s\u001b[0m 3ms/step - loss: 5.3548e-05 - val_loss: 4.6223e-05\n"
     ]
    },
    {
     "data": {
      "text/plain": [
       "<keras.src.callbacks.history.History at 0x185c4e14c10>"
      ]
     },
     "execution_count": 5,
     "metadata": {},
     "output_type": "execute_result"
    }
   ],
   "source": [
    "# Huấn luyện mô hình\n",
    "autoencoder.fit(X_scaled, X_scaled, epochs=50, batch_size=64, validation_split=0.1, verbose=1)\n"
   ]
  },
  {
   "cell_type": "code",
   "execution_count": null,
   "id": "36052ae6",
   "metadata": {},
   "outputs": [
    {
     "name": "stdout",
     "output_type": "stream",
     "text": [
      "\u001b[1m3563/3563\u001b[0m \u001b[32m━━━━━━━━━━━━━━━━━━━━\u001b[0m\u001b[37m\u001b[0m \u001b[1m5s\u001b[0m 1ms/step\n"
     ]
    }
   ],
   "source": [
    "# Trích xuất đặc trưng ẩn (latent features)\n",
    "encoder = models.Sequential(autoencoder.layers[:3])  # ví dụ lấy 3 lớp đầu\n",
    "latent_features = encoder.predict(X_scaled)\n"
   ]
  },
  {
   "cell_type": "code",
   "execution_count": null,
   "id": "0ebdcce2",
   "metadata": {},
   "outputs": [],
   "source": [
    "# Hàm đề xuất bài hát dựa trên mô hình Autoencoder\n",
    "def recommend_songs_dl(song_name, n=5):\n",
    "    song_idx = df[df['track_name'].str.lower() == song_name.lower()].index\n",
    "    if len(song_idx) == 0:\n",
    "        return \"Không tìm thấy bài hát!\"\n",
    "    \n",
    "    song_vec = latent_features[song_idx[0]].reshape(1, -1)\n",
    "    sims = cosine_similarity(song_vec, latent_features).flatten()\n",
    "    \n",
    "    df['similarity'] = sims\n",
    "    recs = df.sort_values('similarity', ascending=False).iloc[1:n+1]\n",
    "    return recs[['track_name', 'artists', 'track_genre', 'similarity']]\n"
   ]
  },
  {
   "cell_type": "code",
   "execution_count": null,
   "id": "4857e17e",
   "metadata": {},
   "outputs": [
    {
     "name": "stdout",
     "output_type": "stream",
     "text": [
      "                                track_name      artists        track_genre  \\\n",
      "102150                              Comedy  Gen Hoshino         songwriter   \n",
      "99151                               Comedy  Gen Hoshino  singer-songwriter   \n",
      "62102                               Comedy  Gen Hoshino              j-pop   \n",
      "357     Look For The Good (Single Version)   Jason Mraz           acoustic   \n",
      "850                              Pop Virus  Gen Hoshino           acoustic   \n",
      "\n",
      "        similarity  \n",
      "102150    1.000000  \n",
      "99151     1.000000  \n",
      "62102     1.000000  \n",
      "357       0.995269  \n",
      "850       0.994691  \n"
     ]
    }
   ],
   "source": [
    "# Ví dụ 1 sử dụng hàm đề xuất\n",
    "recommendations = recommend_songs_dl('Comedy', n=5)\n",
    "print(recommendations)\n"
   ]
  },
  {
   "cell_type": "code",
   "execution_count": null,
   "id": "6e4c3f4a",
   "metadata": {},
   "outputs": [
    {
     "name": "stdout",
     "output_type": "stream",
     "text": [
      "             track_name         artists track_genre  similarity\n",
      "45035  Linda Mi Cholita    William Luna      guitar    0.998025\n",
      "72486         Transcend  Fit For A King   metalcore    0.997224\n",
      "40154   Tempo de Vencer          Jamily      gospel    0.997040\n",
      "9353    Tempo de Vencer          Jamily      brazil    0.997040\n",
      "1377             Llueve   Jorge Drexler    afrobeat    0.997039\n"
     ]
    }
   ],
   "source": [
    "# Ví dụ 2 sử dụng hàm đề xuất\n",
    "recommendations = recommend_songs_dl('To Begin Again', n=5)\n",
    "print(recommendations)\n"
   ]
  },
  {
   "cell_type": "code",
   "execution_count": null,
   "id": "449204e7",
   "metadata": {},
   "outputs": [
    {
     "name": "stdout",
     "output_type": "stream",
     "text": [
      "              track_name           artists track_genre  similarity\n",
      "954              Hold On  Chord Overstreet    acoustic    0.999980\n",
      "70452                 分裂          Jay Chou    mandopop    0.998896\n",
      "9290   Incomparável Amor     Gabriel Brito      brazil    0.998740\n",
      "40146  Incomparável Amor     Gabriel Brito      gospel    0.998740\n",
      "38544         Tid tröste        Mando Diao      garage    0.998702\n"
     ]
    }
   ],
   "source": [
    "# Ví dụ 3 sử dụng hàm đề xuất\n",
    "recommendations = recommend_songs_dl('Hold On', n=5)\n",
    "print(recommendations)"
   ]
  }
 ],
 "metadata": {
  "kernelspec": {
   "display_name": "Python 3",
   "language": "python",
   "name": "python3"
  },
  "language_info": {
   "codemirror_mode": {
    "name": "ipython",
    "version": 3
   },
   "file_extension": ".py",
   "mimetype": "text/x-python",
   "name": "python",
   "nbconvert_exporter": "python",
   "pygments_lexer": "ipython3",
   "version": "3.11.0"
  }
 },
 "nbformat": 4,
 "nbformat_minor": 5
}
