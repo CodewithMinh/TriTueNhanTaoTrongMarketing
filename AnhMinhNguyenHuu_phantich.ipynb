{
 "cells": [
  {
   "cell_type": "markdown",
   "id": "18bd1c4a",
   "metadata": {},
   "source": [
    "\n",
    "# 📊 Phân tích theo **thể loại & ca sĩ** (dùng cột thật trong `dataset_cleaned.csv`)\n",
    "\n",
    "**Cột sử dụng:**  \n",
    "- `track_genre` (thể loại)  \n",
    "- `artists` (ca sĩ)  \n",
    "- `track_name` (tên bài hát)  \n",
    "- `popularity` (độ phổ biến)\n",
    "\n",
    "**Mục tiêu:**  \n",
    "- Thống kê số lượng bài hát theo **thể loại** và **ca sĩ**.  \n",
    "- Tính **độ phổ biến trung bình** cho từng nhóm.  \n",
    "- Vẽ **biểu đồ** minh hoạ Top 10.  \n",
    "\n",
    "> Ghi chú: chỉ dùng **matplotlib** (không seaborn). Đặt `dataset_cleaned.csv` cùng thư mục với notebook.\n",
    "---\n"
   ]
  },
  {
   "cell_type": "code",
   "execution_count": null,
   "id": "624cb370",
   "metadata": {},
   "outputs": [
    {
     "ename": "FileNotFoundError",
     "evalue": "[Errno 2] No such file or directory: 'data_cleaned.csv'",
     "output_type": "error",
     "traceback": [
      "\u001b[1;31m---------------------------------------------------------------------------\u001b[0m",
      "\u001b[1;31mFileNotFoundError\u001b[0m                         Traceback (most recent call last)",
      "Cell \u001b[1;32mIn[1], line 6\u001b[0m\n\u001b[0;32m      2\u001b[0m \u001b[38;5;28;01mimport\u001b[39;00m\u001b[38;5;250m \u001b[39m\u001b[38;5;21;01mpandas\u001b[39;00m\u001b[38;5;250m \u001b[39m\u001b[38;5;28;01mas\u001b[39;00m\u001b[38;5;250m \u001b[39m\u001b[38;5;21;01mpd\u001b[39;00m\n\u001b[0;32m      3\u001b[0m \u001b[38;5;28;01mimport\u001b[39;00m\u001b[38;5;250m \u001b[39m\u001b[38;5;21;01mmatplotlib\u001b[39;00m\u001b[38;5;21;01m.\u001b[39;00m\u001b[38;5;21;01mpyplot\u001b[39;00m\u001b[38;5;250m \u001b[39m\u001b[38;5;28;01mas\u001b[39;00m\u001b[38;5;250m \u001b[39m\u001b[38;5;21;01mplt\u001b[39;00m\n\u001b[1;32m----> 6\u001b[0m df \u001b[38;5;241m=\u001b[39m \u001b[43mpd\u001b[49m\u001b[38;5;241;43m.\u001b[39;49m\u001b[43mread_csv\u001b[49m\u001b[43m(\u001b[49m\u001b[38;5;124;43m'\u001b[39;49m\u001b[38;5;124;43mdata_cleaned.csv\u001b[39;49m\u001b[38;5;124;43m'\u001b[39;49m\u001b[43m)\u001b[49m\n\u001b[0;32m      7\u001b[0m \u001b[38;5;28mprint\u001b[39m(\u001b[38;5;124m\"\u001b[39m\u001b[38;5;124mShape:\u001b[39m\u001b[38;5;124m\"\u001b[39m, df\u001b[38;5;241m.\u001b[39mshape)\n\u001b[0;32m      8\u001b[0m df\u001b[38;5;241m.\u001b[39mhead()\n",
      "File \u001b[1;32mc:\\Users\\minht\\anaconda3\\Lib\\site-packages\\pandas\\io\\parsers\\readers.py:1026\u001b[0m, in \u001b[0;36mread_csv\u001b[1;34m(filepath_or_buffer, sep, delimiter, header, names, index_col, usecols, dtype, engine, converters, true_values, false_values, skipinitialspace, skiprows, skipfooter, nrows, na_values, keep_default_na, na_filter, verbose, skip_blank_lines, parse_dates, infer_datetime_format, keep_date_col, date_parser, date_format, dayfirst, cache_dates, iterator, chunksize, compression, thousands, decimal, lineterminator, quotechar, quoting, doublequote, escapechar, comment, encoding, encoding_errors, dialect, on_bad_lines, delim_whitespace, low_memory, memory_map, float_precision, storage_options, dtype_backend)\u001b[0m\n\u001b[0;32m   1013\u001b[0m kwds_defaults \u001b[38;5;241m=\u001b[39m _refine_defaults_read(\n\u001b[0;32m   1014\u001b[0m     dialect,\n\u001b[0;32m   1015\u001b[0m     delimiter,\n\u001b[1;32m   (...)\u001b[0m\n\u001b[0;32m   1022\u001b[0m     dtype_backend\u001b[38;5;241m=\u001b[39mdtype_backend,\n\u001b[0;32m   1023\u001b[0m )\n\u001b[0;32m   1024\u001b[0m kwds\u001b[38;5;241m.\u001b[39mupdate(kwds_defaults)\n\u001b[1;32m-> 1026\u001b[0m \u001b[38;5;28;01mreturn\u001b[39;00m \u001b[43m_read\u001b[49m\u001b[43m(\u001b[49m\u001b[43mfilepath_or_buffer\u001b[49m\u001b[43m,\u001b[49m\u001b[43m \u001b[49m\u001b[43mkwds\u001b[49m\u001b[43m)\u001b[49m\n",
      "File \u001b[1;32mc:\\Users\\minht\\anaconda3\\Lib\\site-packages\\pandas\\io\\parsers\\readers.py:620\u001b[0m, in \u001b[0;36m_read\u001b[1;34m(filepath_or_buffer, kwds)\u001b[0m\n\u001b[0;32m    617\u001b[0m _validate_names(kwds\u001b[38;5;241m.\u001b[39mget(\u001b[38;5;124m\"\u001b[39m\u001b[38;5;124mnames\u001b[39m\u001b[38;5;124m\"\u001b[39m, \u001b[38;5;28;01mNone\u001b[39;00m))\n\u001b[0;32m    619\u001b[0m \u001b[38;5;66;03m# Create the parser.\u001b[39;00m\n\u001b[1;32m--> 620\u001b[0m parser \u001b[38;5;241m=\u001b[39m \u001b[43mTextFileReader\u001b[49m\u001b[43m(\u001b[49m\u001b[43mfilepath_or_buffer\u001b[49m\u001b[43m,\u001b[49m\u001b[43m \u001b[49m\u001b[38;5;241;43m*\u001b[39;49m\u001b[38;5;241;43m*\u001b[39;49m\u001b[43mkwds\u001b[49m\u001b[43m)\u001b[49m\n\u001b[0;32m    622\u001b[0m \u001b[38;5;28;01mif\u001b[39;00m chunksize \u001b[38;5;129;01mor\u001b[39;00m iterator:\n\u001b[0;32m    623\u001b[0m     \u001b[38;5;28;01mreturn\u001b[39;00m parser\n",
      "File \u001b[1;32mc:\\Users\\minht\\anaconda3\\Lib\\site-packages\\pandas\\io\\parsers\\readers.py:1620\u001b[0m, in \u001b[0;36mTextFileReader.__init__\u001b[1;34m(self, f, engine, **kwds)\u001b[0m\n\u001b[0;32m   1617\u001b[0m     \u001b[38;5;28mself\u001b[39m\u001b[38;5;241m.\u001b[39moptions[\u001b[38;5;124m\"\u001b[39m\u001b[38;5;124mhas_index_names\u001b[39m\u001b[38;5;124m\"\u001b[39m] \u001b[38;5;241m=\u001b[39m kwds[\u001b[38;5;124m\"\u001b[39m\u001b[38;5;124mhas_index_names\u001b[39m\u001b[38;5;124m\"\u001b[39m]\n\u001b[0;32m   1619\u001b[0m \u001b[38;5;28mself\u001b[39m\u001b[38;5;241m.\u001b[39mhandles: IOHandles \u001b[38;5;241m|\u001b[39m \u001b[38;5;28;01mNone\u001b[39;00m \u001b[38;5;241m=\u001b[39m \u001b[38;5;28;01mNone\u001b[39;00m\n\u001b[1;32m-> 1620\u001b[0m \u001b[38;5;28mself\u001b[39m\u001b[38;5;241m.\u001b[39m_engine \u001b[38;5;241m=\u001b[39m \u001b[38;5;28;43mself\u001b[39;49m\u001b[38;5;241;43m.\u001b[39;49m\u001b[43m_make_engine\u001b[49m\u001b[43m(\u001b[49m\u001b[43mf\u001b[49m\u001b[43m,\u001b[49m\u001b[43m \u001b[49m\u001b[38;5;28;43mself\u001b[39;49m\u001b[38;5;241;43m.\u001b[39;49m\u001b[43mengine\u001b[49m\u001b[43m)\u001b[49m\n",
      "File \u001b[1;32mc:\\Users\\minht\\anaconda3\\Lib\\site-packages\\pandas\\io\\parsers\\readers.py:1880\u001b[0m, in \u001b[0;36mTextFileReader._make_engine\u001b[1;34m(self, f, engine)\u001b[0m\n\u001b[0;32m   1878\u001b[0m     \u001b[38;5;28;01mif\u001b[39;00m \u001b[38;5;124m\"\u001b[39m\u001b[38;5;124mb\u001b[39m\u001b[38;5;124m\"\u001b[39m \u001b[38;5;129;01mnot\u001b[39;00m \u001b[38;5;129;01min\u001b[39;00m mode:\n\u001b[0;32m   1879\u001b[0m         mode \u001b[38;5;241m+\u001b[39m\u001b[38;5;241m=\u001b[39m \u001b[38;5;124m\"\u001b[39m\u001b[38;5;124mb\u001b[39m\u001b[38;5;124m\"\u001b[39m\n\u001b[1;32m-> 1880\u001b[0m \u001b[38;5;28mself\u001b[39m\u001b[38;5;241m.\u001b[39mhandles \u001b[38;5;241m=\u001b[39m \u001b[43mget_handle\u001b[49m\u001b[43m(\u001b[49m\n\u001b[0;32m   1881\u001b[0m \u001b[43m    \u001b[49m\u001b[43mf\u001b[49m\u001b[43m,\u001b[49m\n\u001b[0;32m   1882\u001b[0m \u001b[43m    \u001b[49m\u001b[43mmode\u001b[49m\u001b[43m,\u001b[49m\n\u001b[0;32m   1883\u001b[0m \u001b[43m    \u001b[49m\u001b[43mencoding\u001b[49m\u001b[38;5;241;43m=\u001b[39;49m\u001b[38;5;28;43mself\u001b[39;49m\u001b[38;5;241;43m.\u001b[39;49m\u001b[43moptions\u001b[49m\u001b[38;5;241;43m.\u001b[39;49m\u001b[43mget\u001b[49m\u001b[43m(\u001b[49m\u001b[38;5;124;43m\"\u001b[39;49m\u001b[38;5;124;43mencoding\u001b[39;49m\u001b[38;5;124;43m\"\u001b[39;49m\u001b[43m,\u001b[49m\u001b[43m \u001b[49m\u001b[38;5;28;43;01mNone\u001b[39;49;00m\u001b[43m)\u001b[49m\u001b[43m,\u001b[49m\n\u001b[0;32m   1884\u001b[0m \u001b[43m    \u001b[49m\u001b[43mcompression\u001b[49m\u001b[38;5;241;43m=\u001b[39;49m\u001b[38;5;28;43mself\u001b[39;49m\u001b[38;5;241;43m.\u001b[39;49m\u001b[43moptions\u001b[49m\u001b[38;5;241;43m.\u001b[39;49m\u001b[43mget\u001b[49m\u001b[43m(\u001b[49m\u001b[38;5;124;43m\"\u001b[39;49m\u001b[38;5;124;43mcompression\u001b[39;49m\u001b[38;5;124;43m\"\u001b[39;49m\u001b[43m,\u001b[49m\u001b[43m \u001b[49m\u001b[38;5;28;43;01mNone\u001b[39;49;00m\u001b[43m)\u001b[49m\u001b[43m,\u001b[49m\n\u001b[0;32m   1885\u001b[0m \u001b[43m    \u001b[49m\u001b[43mmemory_map\u001b[49m\u001b[38;5;241;43m=\u001b[39;49m\u001b[38;5;28;43mself\u001b[39;49m\u001b[38;5;241;43m.\u001b[39;49m\u001b[43moptions\u001b[49m\u001b[38;5;241;43m.\u001b[39;49m\u001b[43mget\u001b[49m\u001b[43m(\u001b[49m\u001b[38;5;124;43m\"\u001b[39;49m\u001b[38;5;124;43mmemory_map\u001b[39;49m\u001b[38;5;124;43m\"\u001b[39;49m\u001b[43m,\u001b[49m\u001b[43m \u001b[49m\u001b[38;5;28;43;01mFalse\u001b[39;49;00m\u001b[43m)\u001b[49m\u001b[43m,\u001b[49m\n\u001b[0;32m   1886\u001b[0m \u001b[43m    \u001b[49m\u001b[43mis_text\u001b[49m\u001b[38;5;241;43m=\u001b[39;49m\u001b[43mis_text\u001b[49m\u001b[43m,\u001b[49m\n\u001b[0;32m   1887\u001b[0m \u001b[43m    \u001b[49m\u001b[43merrors\u001b[49m\u001b[38;5;241;43m=\u001b[39;49m\u001b[38;5;28;43mself\u001b[39;49m\u001b[38;5;241;43m.\u001b[39;49m\u001b[43moptions\u001b[49m\u001b[38;5;241;43m.\u001b[39;49m\u001b[43mget\u001b[49m\u001b[43m(\u001b[49m\u001b[38;5;124;43m\"\u001b[39;49m\u001b[38;5;124;43mencoding_errors\u001b[39;49m\u001b[38;5;124;43m\"\u001b[39;49m\u001b[43m,\u001b[49m\u001b[43m \u001b[49m\u001b[38;5;124;43m\"\u001b[39;49m\u001b[38;5;124;43mstrict\u001b[39;49m\u001b[38;5;124;43m\"\u001b[39;49m\u001b[43m)\u001b[49m\u001b[43m,\u001b[49m\n\u001b[0;32m   1888\u001b[0m \u001b[43m    \u001b[49m\u001b[43mstorage_options\u001b[49m\u001b[38;5;241;43m=\u001b[39;49m\u001b[38;5;28;43mself\u001b[39;49m\u001b[38;5;241;43m.\u001b[39;49m\u001b[43moptions\u001b[49m\u001b[38;5;241;43m.\u001b[39;49m\u001b[43mget\u001b[49m\u001b[43m(\u001b[49m\u001b[38;5;124;43m\"\u001b[39;49m\u001b[38;5;124;43mstorage_options\u001b[39;49m\u001b[38;5;124;43m\"\u001b[39;49m\u001b[43m,\u001b[49m\u001b[43m \u001b[49m\u001b[38;5;28;43;01mNone\u001b[39;49;00m\u001b[43m)\u001b[49m\u001b[43m,\u001b[49m\n\u001b[0;32m   1889\u001b[0m \u001b[43m\u001b[49m\u001b[43m)\u001b[49m\n\u001b[0;32m   1890\u001b[0m \u001b[38;5;28;01massert\u001b[39;00m \u001b[38;5;28mself\u001b[39m\u001b[38;5;241m.\u001b[39mhandles \u001b[38;5;129;01mis\u001b[39;00m \u001b[38;5;129;01mnot\u001b[39;00m \u001b[38;5;28;01mNone\u001b[39;00m\n\u001b[0;32m   1891\u001b[0m f \u001b[38;5;241m=\u001b[39m \u001b[38;5;28mself\u001b[39m\u001b[38;5;241m.\u001b[39mhandles\u001b[38;5;241m.\u001b[39mhandle\n",
      "File \u001b[1;32mc:\\Users\\minht\\anaconda3\\Lib\\site-packages\\pandas\\io\\common.py:873\u001b[0m, in \u001b[0;36mget_handle\u001b[1;34m(path_or_buf, mode, encoding, compression, memory_map, is_text, errors, storage_options)\u001b[0m\n\u001b[0;32m    868\u001b[0m \u001b[38;5;28;01melif\u001b[39;00m \u001b[38;5;28misinstance\u001b[39m(handle, \u001b[38;5;28mstr\u001b[39m):\n\u001b[0;32m    869\u001b[0m     \u001b[38;5;66;03m# Check whether the filename is to be opened in binary mode.\u001b[39;00m\n\u001b[0;32m    870\u001b[0m     \u001b[38;5;66;03m# Binary mode does not support 'encoding' and 'newline'.\u001b[39;00m\n\u001b[0;32m    871\u001b[0m     \u001b[38;5;28;01mif\u001b[39;00m ioargs\u001b[38;5;241m.\u001b[39mencoding \u001b[38;5;129;01mand\u001b[39;00m \u001b[38;5;124m\"\u001b[39m\u001b[38;5;124mb\u001b[39m\u001b[38;5;124m\"\u001b[39m \u001b[38;5;129;01mnot\u001b[39;00m \u001b[38;5;129;01min\u001b[39;00m ioargs\u001b[38;5;241m.\u001b[39mmode:\n\u001b[0;32m    872\u001b[0m         \u001b[38;5;66;03m# Encoding\u001b[39;00m\n\u001b[1;32m--> 873\u001b[0m         handle \u001b[38;5;241m=\u001b[39m \u001b[38;5;28;43mopen\u001b[39;49m\u001b[43m(\u001b[49m\n\u001b[0;32m    874\u001b[0m \u001b[43m            \u001b[49m\u001b[43mhandle\u001b[49m\u001b[43m,\u001b[49m\n\u001b[0;32m    875\u001b[0m \u001b[43m            \u001b[49m\u001b[43mioargs\u001b[49m\u001b[38;5;241;43m.\u001b[39;49m\u001b[43mmode\u001b[49m\u001b[43m,\u001b[49m\n\u001b[0;32m    876\u001b[0m \u001b[43m            \u001b[49m\u001b[43mencoding\u001b[49m\u001b[38;5;241;43m=\u001b[39;49m\u001b[43mioargs\u001b[49m\u001b[38;5;241;43m.\u001b[39;49m\u001b[43mencoding\u001b[49m\u001b[43m,\u001b[49m\n\u001b[0;32m    877\u001b[0m \u001b[43m            \u001b[49m\u001b[43merrors\u001b[49m\u001b[38;5;241;43m=\u001b[39;49m\u001b[43merrors\u001b[49m\u001b[43m,\u001b[49m\n\u001b[0;32m    878\u001b[0m \u001b[43m            \u001b[49m\u001b[43mnewline\u001b[49m\u001b[38;5;241;43m=\u001b[39;49m\u001b[38;5;124;43m\"\u001b[39;49m\u001b[38;5;124;43m\"\u001b[39;49m\u001b[43m,\u001b[49m\n\u001b[0;32m    879\u001b[0m \u001b[43m        \u001b[49m\u001b[43m)\u001b[49m\n\u001b[0;32m    880\u001b[0m     \u001b[38;5;28;01melse\u001b[39;00m:\n\u001b[0;32m    881\u001b[0m         \u001b[38;5;66;03m# Binary mode\u001b[39;00m\n\u001b[0;32m    882\u001b[0m         handle \u001b[38;5;241m=\u001b[39m \u001b[38;5;28mopen\u001b[39m(handle, ioargs\u001b[38;5;241m.\u001b[39mmode)\n",
      "\u001b[1;31mFileNotFoundError\u001b[0m: [Errno 2] No such file or directory: 'data_cleaned.csv'"
     ]
    }
   ],
   "source": [
    "\n",
    "# %% [code] Thiết lập & đọc dữ liệu\n",
    "import pandas as pd\n",
    "import matplotlib.pyplot as plt\n",
    "\n",
    "\n",
    "df = pd.read_csv(\"C:/Users/minht/Dropbox/PC/Downloads/dataset_cleaned.csv\")\n",
    "print(\"Shape:\", df.shape)\n",
    "df.head()\n"
   ]
  },
  {
   "cell_type": "markdown",
   "id": "c162c67b",
   "metadata": {},
   "source": [
    "\n",
    "## 1) Kiểm tra cột và tiền xử lý nhẹ\n"
   ]
  },
  {
   "cell_type": "code",
   "execution_count": null,
   "id": "7664cd13",
   "metadata": {},
   "outputs": [],
   "source": [
    "\n",
    "# %% [code] Kiểm tra cột bắt buộc\n",
    "required_cols = [\"track_name\", \"artists\", \"track_genre\", \"popularity\"]\n",
    "missing = [c for c in required_cols if c not in df.columns]\n",
    "if missing:\n",
    "    raise ValueError(f\"Thiếu cột: {missing}. Cần có {required_cols}\")\n",
    "\n",
    "# Ép popularity về số & loại bỏ NA quan trọng\n",
    "df[\"popularity\"] = pd.to_numeric(df[\"popularity\"], errors=\"coerce\")\n",
    "before = len(df)\n",
    "df = df.dropna(subset=[\"artists\", \"track_genre\", \"popularity\"])\n",
    "print(\"Dropped:\", before - len(df), \"rows\")\n",
    "df.sample(min(5, len(df)))\n"
   ]
  },
  {
   "cell_type": "markdown",
   "id": "67b1eb44",
   "metadata": {},
   "source": [
    "\n",
    "## 2) Phân tích **thể loại (track_genre)**\n",
    "### 2.1 Thống kê số lượng bài hát & độ phổ biến trung bình\n"
   ]
  },
  {
   "cell_type": "code",
   "execution_count": null,
   "id": "301363ed",
   "metadata": {},
   "outputs": [],
   "source": [
    "\n",
    "# %% [code] GroupBy theo thể loại\n",
    "genre_stats = (\n",
    "    df.groupby(\"track_genre\")\n",
    "      .agg(song_count=(\"track_name\", \"count\"), avg_popularity=(\"popularity\", \"mean\"))\n",
    "      .reset_index()\n",
    "      .sort_values(\"song_count\", ascending=False)\n",
    ")\n",
    "genre_stats.head(10)\n"
   ]
  },
  {
   "cell_type": "markdown",
   "id": "1032d062",
   "metadata": {},
   "source": [
    "\n",
    "### 2.2 Biểu đồ: Top 10 thể loại nhiều bài hát nhất\n"
   ]
  },
  {
   "cell_type": "code",
   "execution_count": null,
   "id": "e95983b9",
   "metadata": {},
   "outputs": [],
   "source": [
    "\n",
    "# %% [code]\n",
    "top_genres_count = genre_stats.nlargest(10, \"song_count\").iloc[::-1]\n",
    "plt.figure(figsize=(10,6))\n",
    "plt.barh(top_genres_count[\"track_genre\"], top_genres_count[\"song_count\"])\n",
    "plt.title(\"Top 10 thể loại có nhiều bài hát nhất\")\n",
    "plt.xlabel(\"Số lượng bài hát\")\n",
    "plt.ylabel(\"Thể loại (track_genre)\")\n",
    "plt.tight_layout()\n",
    "plt.show()\n"
   ]
  },
  {
   "cell_type": "markdown",
   "id": "fd2577a0",
   "metadata": {},
   "source": [
    "\n",
    "### 2.3 Biểu đồ: Top 10 thể loại có độ phổ biến trung bình cao nhất\n"
   ]
  },
  {
   "cell_type": "code",
   "execution_count": null,
   "id": "72b31969",
   "metadata": {},
   "outputs": [],
   "source": [
    "\n",
    "# %% [code]\n",
    "top_genres_pop = genre_stats.nlargest(10, \"avg_popularity\").iloc[::-1]\n",
    "plt.figure(figsize=(10,6))\n",
    "plt.barh(top_genres_pop[\"track_genre\"], top_genres_pop[\"avg_popularity\"])\n",
    "plt.title(\"Top 10 thể loại phổ biến nhất (độ phổ biến trung bình)\")\n",
    "plt.xlabel(\"Độ phổ biến trung bình (popularity)\")\n",
    "plt.ylabel(\"Thể loại (track_genre)\")\n",
    "plt.tight_layout()\n",
    "plt.show()\n"
   ]
  },
  {
   "cell_type": "markdown",
   "id": "1933c6d7",
   "metadata": {},
   "source": [
    "\n",
    "> **Nhận xét (Genre):**  \n",
    "> - Một số `track_genre` có **nhiều bài hát** nhất phản ánh mức độ phủ rộng của thể loại đó trong dataset.  \n",
    "> - **Độ phổ biến trung bình (avg_popularity)** cho thấy mức độ yêu thích — có thể khác thứ hạng theo số lượng.  \n",
    "> - Nếu cần gợi ý cho người dùng mới, có thể ưu tiên các thể loại có `avg_popularity` cao.\n"
   ]
  },
  {
   "cell_type": "markdown",
   "id": "11e07415",
   "metadata": {},
   "source": [
    "\n",
    "## 3) Phân tích **ca sĩ (artists)**\n",
    "### 3.1 Thống kê số lượng bài hát & độ phổ biến trung bình\n"
   ]
  },
  {
   "cell_type": "code",
   "execution_count": null,
   "id": "c6f1383f",
   "metadata": {},
   "outputs": [],
   "source": [
    "\n",
    "# %% [code]\n",
    "artist_stats = (\n",
    "    df.groupby(\"artists\")\n",
    "      .agg(song_count=(\"track_name\", \"count\"), avg_popularity=(\"popularity\", \"mean\"))\n",
    "      .reset_index()\n",
    "      .sort_values(\"song_count\", ascending=False)\n",
    ")\n",
    "artist_stats.head(10)\n"
   ]
  },
  {
   "cell_type": "markdown",
   "id": "6b78cedb",
   "metadata": {},
   "source": [
    "\n",
    "### 3.2 Biểu đồ: Top 10 ca sĩ có nhiều bài hát nhất\n"
   ]
  },
  {
   "cell_type": "code",
   "execution_count": null,
   "id": "7a4b77ed",
   "metadata": {},
   "outputs": [],
   "source": [
    "\n",
    "# %% [code]\n",
    "top_artists_count = artist_stats.nlargest(10, \"song_count\").iloc[::-1]\n",
    "plt.figure(figsize=(10,6))\n",
    "plt.barh(top_artists_count[\"artists\"], top_artists_count[\"song_count\"])\n",
    "plt.title(\"Top 10 ca sĩ có nhiều bài hát nhất\")\n",
    "plt.xlabel(\"Số lượng bài hát\")\n",
    "plt.ylabel(\"Ca sĩ (artists)\")\n",
    "plt.tight_layout()\n",
    "plt.show()\n"
   ]
  },
  {
   "cell_type": "markdown",
   "id": "21c73ba7",
   "metadata": {},
   "source": [
    "\n",
    "### 3.3 Biểu đồ: Top 10 ca sĩ có độ phổ biến trung bình cao nhất\n"
   ]
  },
  {
   "cell_type": "code",
   "execution_count": null,
   "id": "1fd7e39c",
   "metadata": {},
   "outputs": [],
   "source": [
    "\n",
    "# %% [code]\n",
    "top_artists_pop = artist_stats.nlargest(10, \"avg_popularity\").iloc[::-1]\n",
    "plt.figure(figsize=(10,6))\n",
    "plt.barh(top_artists_pop[\"artists\"], top_artists_pop[\"avg_popularity\"])\n",
    "plt.title(\"Top 10 ca sĩ phổ biến nhất (độ phổ biến trung bình)\")\n",
    "plt.xlabel(\"Độ phổ biến trung bình (popularity)\")\n",
    "plt.ylabel(\"Ca sĩ (artists)\")\n",
    "plt.tight_layout()\n",
    "plt.show()\n"
   ]
  },
  {
   "cell_type": "markdown",
   "id": "db562e94",
   "metadata": {},
   "source": [
    "\n",
    "> **Nhận xét (Artist):**  \n",
    "> - Nghệ sĩ có **nhiều bài hát** thường là những người phát hành nhiều hoặc xuất hiện trong nhiều album/playlist.  \n",
    "> - Nghệ sĩ có **avg_popularity** cao cho thấy mức độ yêu thích mạnh dù số bài có thể không nhiều.  \n",
    "> - Hai chiều \"số lượng vs yêu thích\" hữu ích để xây dựng gợi ý theo nghệ sĩ.\n"
   ]
  },
  {
   "cell_type": "markdown",
   "id": "405eac45",
   "metadata": {},
   "source": [
    "\n",
    "## 4) Kết luận\n",
    "- Tồn tại chênh lệch giữa **độ phủ (song_count)** và **mức độ yêu thích (avg_popularity)** ở cả thể loại và ca sĩ.  \n",
    "- Kết quả giúp:\n",
    "  - Gợi ý bài hát trong **cùng `track_genre`** có avg_popularity cao.  \n",
    "  - Gợi ý **nghệ sĩ tương tự** dựa trên thống kê theo `artists`.  \n",
    "\n",
    "> Bạn có thể chép phần nhận xét/kết luận vào báo cáo.\n"
   ]
  }
 ],
 "metadata": {
  "kernelspec": {
   "display_name": "base",
   "language": "python",
   "name": "python3"
  },
  "language_info": {
   "codemirror_mode": {
    "name": "ipython",
    "version": 3
   },
   "file_extension": ".py",
   "mimetype": "text/x-python",
   "name": "python",
   "nbconvert_exporter": "python",
   "pygments_lexer": "ipython3",
   "version": "3.13.5"
  }
 },
 "nbformat": 4,
 "nbformat_minor": 5
}
